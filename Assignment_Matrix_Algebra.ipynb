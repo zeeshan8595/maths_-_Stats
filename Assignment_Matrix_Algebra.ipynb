{
  "nbformat": 4,
  "nbformat_minor": 0,
  "metadata": {
    "colab": {
      "name": "Assignment -  Matrix Algebra.ipynb",
      "provenance": [],
      "collapsed_sections": []
    },
    "kernelspec": {
      "name": "python3",
      "display_name": "Python 3"
    }
  },
  "cells": [
    {
      "cell_type": "markdown",
      "metadata": {
        "id": "AioAG-n5U_6S"
      },
      "source": [
        "## **Complete these problems by hand in a piece of paper and then upload in a text cell.**"
      ]
    },
    {
      "cell_type": "markdown",
      "metadata": {
        "id": "Oq9OIkpjU3hr"
      },
      "source": [
        "# Problem 1"
      ]
    },
    {
      "cell_type": "markdown",
      "metadata": {
        "id": "VX9AT7Q4bIrU"
      },
      "source": [
        "Find the inverse of the following matrix : \n",
        "\\begin{bmatrix}\n",
        "2 & 1 & 2\\\\\n",
        "1 & 2 & 1\\\\\n",
        "3 & 1 & 3\n",
        "\\end{bmatrix}"
      ]
    },
    {
      "cell_type": "markdown",
      "metadata": {
        "id": "qpBaazJwVQTW"
      },
      "source": [
        "# Problem 2"
      ]
    },
    {
      "cell_type": "markdown",
      "metadata": {
        "id": "SYll5c32Vtl0"
      },
      "source": [
        "Given a matrix \\begin{bmatrix}\n",
        "2 & 0 & 0\\\\\n",
        "0 & 1 & 0\\\\\n",
        "0 & 0 & 5\n",
        "\\end{bmatrix}\n",
        "\n",
        "find it's eigenvalues. "
      ]
    },
    {
      "cell_type": "markdown",
      "metadata": {
        "id": "mOWp34v6VyIs"
      },
      "source": [
        "# Problem 3"
      ]
    },
    {
      "cell_type": "markdown",
      "metadata": {
        "id": "IAMOk0s0WNfn"
      },
      "source": [
        "You are given three matrices A,B,C respectively \n",
        "\\begin{bmatrix}\n",
        "1 & 0 & -1 & 2\\\\\n",
        "0 & 3 & 1 & -1\\\\\n",
        "2 & 4 & 0 & 3\\\\\n",
        "-3 & 1 & 2 & 4\n",
        "\\end{bmatrix}\n",
        "\n",
        "\\begin{bmatrix}\n",
        "1 & 2 \\\\\n",
        "3 & -1\\\\\n",
        "0 & -1\\\\\n",
        "4 & 2\n",
        "\\end{bmatrix}\n",
        "\n",
        "\\begin{bmatrix}\n",
        "3 & 8 & 0 & 5\\\\\n",
        "1 & 0 & -4 & 8\n",
        "\\end{bmatrix}\n",
        "\n",
        "Consider another matrix $D = CAB $ if it exists. Find the value of $D_{22}$"
      ]
    }
  ]
}