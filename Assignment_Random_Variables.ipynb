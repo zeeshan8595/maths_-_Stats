{
  "nbformat": 4,
  "nbformat_minor": 0,
  "metadata": {
    "colab": {
      "name": "Assignment - Random Variables.ipynb",
      "provenance": [],
      "collapsed_sections": []
    },
    "kernelspec": {
      "name": "python3",
      "display_name": "Python 3"
    }
  },
  "cells": [
    {
      "cell_type": "markdown",
      "metadata": {
        "id": "AioAG-n5U_6S"
      },
      "source": [
        "**Complete these problems by hand in a piece of paper and then upload in a text cell.**"
      ]
    },
    {
      "cell_type": "markdown",
      "metadata": {
        "id": "Oq9OIkpjU3hr"
      },
      "source": [
        "# Problem 1"
      ]
    },
    {
      "cell_type": "markdown",
      "metadata": {
        "id": "kpnaBH_KMQM2"
      },
      "source": [
        "Consider the experiment where three fair coins are tossed simultaneously.\n",
        "The sample space will have events like HHH, TTT, HHT, HTH, THT, etc.\n",
        "Let N denote the number of tails obtained from this experiment.\n",
        "1. Write down the probability distribution function of N.\n",
        "2. Find out the cumulative distribution function of N. Plot it.\n",
        "3. Find the mean, E[N].\n",
        "4. Find the variance, var[N]."
      ]
    },
    {
      "cell_type": "markdown",
      "metadata": {
        "id": "qpBaazJwVQTW"
      },
      "source": [
        "# Problem 2"
      ]
    },
    {
      "cell_type": "markdown",
      "metadata": {
        "id": "VX9AT7Q4bIrU"
      },
      "source": [
        "A continuous random variable has the probability density function $ f(x) = ke^{-2x}$ for x > 0.\n",
        "1. Find the value of k. (Use the property of PDF : total area under PDF = 1)\n",
        "2. Find the CDF.\n",
        "3. Find the mean, E[X].\n",
        "4. Find the variance, var[X]."
      ]
    }
  ]
}