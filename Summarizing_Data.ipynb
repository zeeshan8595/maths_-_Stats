{
  "nbformat": 4,
  "nbformat_minor": 0,
  "metadata": {
    "kernelspec": {
      "display_name": "Python 3",
      "language": "python",
      "name": "python3"
    },
    "language_info": {
      "codemirror_mode": {
        "name": "ipython",
        "version": 3
      },
      "file_extension": ".py",
      "mimetype": "text/x-python",
      "name": "python",
      "nbconvert_exporter": "python",
      "pygments_lexer": "ipython3",
      "version": "3.7.3"
    },
    "colab": {
      "name": "Summarizing Data.ipynb",
      "provenance": [],
      "collapsed_sections": []
    }
  },
  "cells": [
    {
      "cell_type": "code",
      "metadata": {
        "id": "5BT5vuUBgJXm"
      },
      "source": [
        "import numpy as np\n",
        "import pandas as pd\n",
        "import seaborn as sns\n",
        "import matplotlib.pyplot as plt"
      ],
      "execution_count": null,
      "outputs": []
    },
    {
      "cell_type": "markdown",
      "metadata": {
        "id": "fu81BOqmd18G"
      },
      "source": [
        "# Frequency Distribution"
      ]
    },
    {
      "cell_type": "markdown",
      "metadata": {
        "id": "2gu_RCPUf4f1"
      },
      "source": [
        "**Discrete** numerical data can be summarised using a **frequency distribution**.\n",
        "\n",
        "Suppose you surveyed the number of children in a sample of 80 families."
      ]
    },
    {
      "cell_type": "code",
      "metadata": {
        "id": "3QRX8TXFd2Us"
      },
      "source": [
        "df = pd.DataFrame(data={'number_of_children':[0, 1, 2, 3, 4, 5, 6, 7, 8], 'number_of_families':[8, 12, 28, 19, 7, 4, 1, 1, 0]})"
      ],
      "execution_count": null,
      "outputs": []
    },
    {
      "cell_type": "code",
      "metadata": {
        "id": "lDgIKhSWd2t2",
        "outputId": "d94a42cc-e1e0-4e04-c204-de472a115df5",
        "colab": {
          "base_uri": "https://localhost:8080/",
          "height": 328
        }
      },
      "source": [
        "df"
      ],
      "execution_count": null,
      "outputs": [
        {
          "output_type": "execute_result",
          "data": {
            "text/html": [
              "<div>\n",
              "<style scoped>\n",
              "    .dataframe tbody tr th:only-of-type {\n",
              "        vertical-align: middle;\n",
              "    }\n",
              "\n",
              "    .dataframe tbody tr th {\n",
              "        vertical-align: top;\n",
              "    }\n",
              "\n",
              "    .dataframe thead th {\n",
              "        text-align: right;\n",
              "    }\n",
              "</style>\n",
              "<table border=\"1\" class=\"dataframe\">\n",
              "  <thead>\n",
              "    <tr style=\"text-align: right;\">\n",
              "      <th></th>\n",
              "      <th>number_of_children</th>\n",
              "      <th>number_of_families</th>\n",
              "    </tr>\n",
              "  </thead>\n",
              "  <tbody>\n",
              "    <tr>\n",
              "      <th>0</th>\n",
              "      <td>0</td>\n",
              "      <td>8</td>\n",
              "    </tr>\n",
              "    <tr>\n",
              "      <th>1</th>\n",
              "      <td>1</td>\n",
              "      <td>12</td>\n",
              "    </tr>\n",
              "    <tr>\n",
              "      <th>2</th>\n",
              "      <td>2</td>\n",
              "      <td>28</td>\n",
              "    </tr>\n",
              "    <tr>\n",
              "      <th>3</th>\n",
              "      <td>3</td>\n",
              "      <td>19</td>\n",
              "    </tr>\n",
              "    <tr>\n",
              "      <th>4</th>\n",
              "      <td>4</td>\n",
              "      <td>7</td>\n",
              "    </tr>\n",
              "    <tr>\n",
              "      <th>5</th>\n",
              "      <td>5</td>\n",
              "      <td>4</td>\n",
              "    </tr>\n",
              "    <tr>\n",
              "      <th>6</th>\n",
              "      <td>6</td>\n",
              "      <td>1</td>\n",
              "    </tr>\n",
              "    <tr>\n",
              "      <th>7</th>\n",
              "      <td>7</td>\n",
              "      <td>1</td>\n",
              "    </tr>\n",
              "    <tr>\n",
              "      <th>8</th>\n",
              "      <td>8</td>\n",
              "      <td>0</td>\n",
              "    </tr>\n",
              "  </tbody>\n",
              "</table>\n",
              "</div>"
            ],
            "text/plain": [
              "   number_of_children  number_of_families\n",
              "0                   0                   8\n",
              "1                   1                  12\n",
              "2                   2                  28\n",
              "3                   3                  19\n",
              "4                   4                   7\n",
              "5                   5                   4\n",
              "6                   6                   1\n",
              "7                   7                   1\n",
              "8                   8                   0"
            ]
          },
          "metadata": {
            "tags": []
          },
          "execution_count": 3
        }
      ]
    },
    {
      "cell_type": "code",
      "metadata": {
        "id": "_8bDG3Lod816",
        "outputId": "57236fee-bc49-4819-8b01-834632029b41",
        "colab": {
          "base_uri": "https://localhost:8080/",
          "height": 285
        }
      },
      "source": [
        "sns.set_theme(style=\"whitegrid\")\n",
        "ax = sns.barplot(x=\"number_of_children\", y=\"number_of_families\", data=df)"
      ],
      "execution_count": null,
      "outputs": [
        {
          "output_type": "display_data",
          "data": {
            "image/png": "[encoded data removed]",
            "text/plain": [
              "<Figure size 432x288 with 1 Axes>"
            ]
          },
          "metadata": {
            "tags": []
          }
        }
      ]
    },
    {
      "cell_type": "markdown",
      "metadata": {
        "id": "j8tVfK3gJfjZ"
      },
      "source": [
        "Conclusions:\n",
        "\n",
        "1.   Most families have 2 children.\n",
        "2.   There are very less families with more than 5 children.\n",
        "\n"
      ]
    },
    {
      "cell_type": "markdown",
      "metadata": {
        "id": "isAg4nF1iDFw"
      },
      "source": [
        "# Grouped Frequency Distribution\n",
        "\n",
        "**Continuous** numerical data can be summarised using a **grouped frequency distribution**.\n",
        "\n",
        "For example, a sample of 100 claims for damage due to water leakage on an\n",
        "insurance company’s household contents policies might be as follows:\n",
        "\n",
        "243 306 271 396 287 399 466 269 295 330\n",
        "425 324 228 113 226 176 320 230 404 487\n",
        "127 74 523 164 366 343 330 436 141 388\n",
        "293 464 200 392 265 403 372 259 426 262\n",
        "221 355 324 374 347 261 278 113 135 291\n",
        "176 342 443 239 302 483 231 292 373 346\n",
        "293 236 223 371 287 400 314 468 337 308\n",
        "359 352 273 267 277 184 286 214 351 270\n",
        "330 238 248 419 330 319 440 427 343 414\n",
        "291 299 265 318 415 372 238 323 411 494"
      ]
    },
    {
      "cell_type": "code",
      "metadata": {
        "id": "KVYp2PbZd8rm"
      },
      "source": [
        "claims_df = pd.DataFrame(data={'group':['50-100', '100-150', '150-200', '200-250', '250-300', '300-350', '350-400', '400-450', '450-500', '500-550'], 'frequency':[2, 5, 4, 14, 21, 20, 14, 13, 6, 1]})"
      ],
      "execution_count": null,
      "outputs": []
    },
    {
      "cell_type": "code",
      "metadata": {
        "id": "q1sz8bnUje3Q",
        "outputId": "cd461a50-b1f7-43b6-a001-a3d48ccf9db5",
        "colab": {
          "base_uri": "https://localhost:8080/",
          "height": 359
        }
      },
      "source": [
        "claims_df"
      ],
      "execution_count": null,
      "outputs": [
        {
          "output_type": "execute_result",
          "data": {
            "text/html": [
              "<div>\n",
              "<style scoped>\n",
              "    .dataframe tbody tr th:only-of-type {\n",
              "        vertical-align: middle;\n",
              "    }\n",
              "\n",
              "    .dataframe tbody tr th {\n",
              "        vertical-align: top;\n",
              "    }\n",
              "\n",
              "    .dataframe thead th {\n",
              "        text-align: right;\n",
              "    }\n",
              "</style>\n",
              "<table border=\"1\" class=\"dataframe\">\n",
              "  <thead>\n",
              "    <tr style=\"text-align: right;\">\n",
              "      <th></th>\n",
              "      <th>group</th>\n",
              "      <th>frequency</th>\n",
              "    </tr>\n",
              "  </thead>\n",
              "  <tbody>\n",
              "    <tr>\n",
              "      <th>0</th>\n",
              "      <td>50-100</td>\n",
              "      <td>2</td>\n",
              "    </tr>\n",
              "    <tr>\n",
              "      <th>1</th>\n",
              "      <td>100-150</td>\n",
              "      <td>5</td>\n",
              "    </tr>\n",
              "    <tr>\n",
              "      <th>2</th>\n",
              "      <td>150-200</td>\n",
              "      <td>4</td>\n",
              "    </tr>\n",
              "    <tr>\n",
              "      <th>3</th>\n",
              "      <td>200-250</td>\n",
              "      <td>14</td>\n",
              "    </tr>\n",
              "    <tr>\n",
              "      <th>4</th>\n",
              "      <td>250-300</td>\n",
              "      <td>21</td>\n",
              "    </tr>\n",
              "    <tr>\n",
              "      <th>5</th>\n",
              "      <td>300-350</td>\n",
              "      <td>20</td>\n",
              "    </tr>\n",
              "    <tr>\n",
              "      <th>6</th>\n",
              "      <td>350-400</td>\n",
              "      <td>14</td>\n",
              "    </tr>\n",
              "    <tr>\n",
              "      <th>7</th>\n",
              "      <td>400-450</td>\n",
              "      <td>13</td>\n",
              "    </tr>\n",
              "    <tr>\n",
              "      <th>8</th>\n",
              "      <td>450-500</td>\n",
              "      <td>6</td>\n",
              "    </tr>\n",
              "    <tr>\n",
              "      <th>9</th>\n",
              "      <td>500-550</td>\n",
              "      <td>1</td>\n",
              "    </tr>\n",
              "  </tbody>\n",
              "</table>\n",
              "</div>"
            ],
            "text/plain": [
              "     group  frequency\n",
              "0   50-100          2\n",
              "1  100-150          5\n",
              "2  150-200          4\n",
              "3  200-250         14\n",
              "4  250-300         21\n",
              "5  300-350         20\n",
              "6  350-400         14\n",
              "7  400-450         13\n",
              "8  450-500          6\n",
              "9  500-550          1"
            ]
          },
          "metadata": {
            "tags": []
          },
          "execution_count": 31
        }
      ]
    },
    {
      "cell_type": "code",
      "metadata": {
        "id": "F4gxH5mLjesX"
      },
      "source": [
        "claims_list = [243,306,271,396,287,399,466,269,295,330,425,324,228,113,226,176,320,230,404,487,127,74,523,164,366,343,330,436,141,388,293,464,200,392,265,403,372,259,426,262,221,355,324,374,347,261,278,113,135,291,176,342,443,239,302,483,231,292,373,346,93,236,223,371,287,400,314,468,337,308,359,352,273,267,277,184,286,214,351,270,330,238,248,419,330,319,440,427,343,414,291,299,265,318,415,372,238,323,411,494]"
      ],
      "execution_count": null,
      "outputs": []
    },
    {
      "cell_type": "code",
      "metadata": {
        "id": "NLXvfP18ldnV",
        "outputId": "6eeb87c7-006f-42b3-a1c9-67de2ed7f4a9",
        "colab": {
          "base_uri": "https://localhost:8080/"
        }
      },
      "source": [
        "frequency, bins = np.histogram(claims_list, bins=10, range=[50, 550])\n",
        "print(frequency)\n",
        "print(bins)"
      ],
      "execution_count": null,
      "outputs": [
        {
          "output_type": "stream",
          "text": [
            "[ 2  5  4 14 21 20 14 13  6  1]\n",
            "[ 50. 100. 150. 200. 250. 300. 350. 400. 450. 500. 550.]\n"
          ],
          "name": "stdout"
        }
      ]
    },
    {
      "cell_type": "code",
      "metadata": {
        "id": "1p9RMb76ks3e",
        "outputId": "e419a3ea-6d5f-4961-c622-81f068b7259b",
        "colab": {
          "base_uri": "https://localhost:8080/",
          "height": 301
        }
      },
      "source": [
        "plt.hist(claims_list, bins=10, range=[50, 550])\n",
        "plt.gca().set(title='Frequency Histogram', xlabel='Claims', ylabel='Frequency');"
      ],
      "execution_count": null,
      "outputs": [
        {
          "output_type": "display_data",
          "data": {
            "image/png": "[encoded data removed]",
            "text/plain": [
              "<Figure size 432x288 with 1 Axes>"
            ]
          },
          "metadata": {
            "tags": []
          }
        }
      ]
    },
    {
      "cell_type": "markdown",
      "metadata": {
        "id": "YxoG7DgSCril"
      },
      "source": [
        "# Measures of Central Tendency \n",
        "\n",
        "\n"
      ]
    },
    {
      "cell_type": "markdown",
      "metadata": {
        "id": "esUQtkVgCrio"
      },
      "source": [
        "### Mean"
      ]
    },
    {
      "cell_type": "markdown",
      "metadata": {
        "id": "XMG7R1ldCrip"
      },
      "source": [
        "**The number of children under 16 years in a sample of 20 families :**\n",
        "\n",
        "[2 , 3 , 2 , 2 , 2 , 0 , 0 , 1 , 1, 4, 3, 2, 8, 5, 6, 7 , 4, 15 , 2, 2]\n",
        "\n",
        "1) What is the mean number of children in the family?\n",
        "\n",
        "2) Is there any suspicious element in data?\n"
      ]
    },
    {
      "cell_type": "code",
      "metadata": {
        "id": "jVCjq1ujCrip"
      },
      "source": [
        "no_of_children = np.array([2 , 3 , 2 , 2 , 2 , 0 , 0 , 1 , 1, 4, 3, 2, 8, 5, 6, 7 , 4, 15 , 2, 2])"
      ],
      "execution_count": null,
      "outputs": []
    },
    {
      "cell_type": "code",
      "metadata": {
        "id": "4LU1zSMBCris",
        "outputId": "24a69a2e-6fe5-4649-cfa9-b487b2de40c0",
        "colab": {
          "base_uri": "https://localhost:8080/"
        }
      },
      "source": [
        "# Formula 1\n",
        "sum = np.sum(no_of_children)\n",
        "n = len(no_of_children)\n",
        "mean_value_1 =  sum / n\n",
        "print(mean_value_1)"
      ],
      "execution_count": null,
      "outputs": [
        {
          "output_type": "stream",
          "text": [
            "3.55\n"
          ],
          "name": "stdout"
        }
      ]
    },
    {
      "cell_type": "code",
      "metadata": {
        "id": "C2rqXrTvCriv",
        "outputId": "ca782e88-4fac-43d6-f834-af14d9a46c36",
        "colab": {
          "base_uri": "https://localhost:8080/"
        }
      },
      "source": [
        "# Formula 2\n",
        "unique_elements, freq = np.unique(no_of_children, return_counts = True)\n",
        "print(unique_elements)\n",
        "print(freq)"
      ],
      "execution_count": null,
      "outputs": [
        {
          "output_type": "stream",
          "text": [
            "[ 0  1  2  3  4  5  6  7  8 15]\n",
            "[2 2 7 2 2 1 1 1 1 1]\n"
          ],
          "name": "stdout"
        }
      ]
    },
    {
      "cell_type": "code",
      "metadata": {
        "id": "cmJQOQoNCrix",
        "outputId": "b30dbfa4-a738-4ec9-ea79-109100c2e188",
        "colab": {
          "base_uri": "https://localhost:8080/"
        }
      },
      "source": [
        "# Formula 2\n",
        "n = np.sum(freq)\n",
        "mean_value_2 = np.sum(freq * unique_elements) / n\n",
        "print(mean_value_1)"
      ],
      "execution_count": null,
      "outputs": [
        {
          "output_type": "stream",
          "text": [
            "3.55\n"
          ],
          "name": "stdout"
        }
      ]
    },
    {
      "cell_type": "code",
      "metadata": {
        "scrolled": true,
        "id": "R5XNO-SpCriz",
        "outputId": "c84d1f0f-4355-4a1c-f299-368f664c74b3",
        "colab": {
          "base_uri": "https://localhost:8080/"
        }
      },
      "source": [
        "# Numpy \\m/\n",
        "np.mean(no_of_children)"
      ],
      "execution_count": null,
      "outputs": [
        {
          "output_type": "execute_result",
          "data": {
            "text/plain": [
              "3.55"
            ]
          },
          "metadata": {
            "tags": []
          },
          "execution_count": 40
        }
      ]
    },
    {
      "cell_type": "markdown",
      "metadata": {
        "id": "4UBo1tjACri2"
      },
      "source": [
        "### Median"
      ]
    },
    {
      "cell_type": "markdown",
      "metadata": {
        "id": "AX1TPyR3Cri3"
      },
      "source": [
        "<b> The ages of seven policyholders in a portfolio of insurance policies are as follows:  </b> \n",
        "\n",
        "39  34  26  41  70  34  28 \n",
        "\n",
        "(i) Find the median age of the policyholders in this portfolio. \n",
        "\n",
        "(ii) Another policyholder aged 41 years is added to the portfolio. Find the median age of policyholders in the portfolio.\n",
        "\n",
        "(iii) Why would the mean be a poor measure of central tendency for these data?\n"
      ]
    },
    {
      "cell_type": "code",
      "metadata": {
        "id": "Yv9R8sRlCri4"
      },
      "source": [
        "policy_holders = np.array([39, 34, 26, 41, 70, 34, 28])"
      ],
      "execution_count": null,
      "outputs": []
    },
    {
      "cell_type": "markdown",
      "metadata": {
        "id": "hiQ0OLwgpHX4"
      },
      "source": [
        "Part (i)"
      ]
    },
    {
      "cell_type": "code",
      "metadata": {
        "id": "FUs6V-PeCri6",
        "outputId": "c331cd3a-e8f7-4218-9be2-29f487853d80",
        "colab": {
          "base_uri": "https://localhost:8080/"
        }
      },
      "source": [
        "# Step 1 - Sort data\n",
        "policy_holders_sort =  np.sort(policy_holders)\n",
        "print(policy_holders_sort)"
      ],
      "execution_count": null,
      "outputs": [
        {
          "output_type": "stream",
          "text": [
            "[26 28 34 34 39 41 70]\n"
          ],
          "name": "stdout"
        }
      ]
    },
    {
      "cell_type": "code",
      "metadata": {
        "id": "3BaT_DHCCri8",
        "outputId": "65bebd49-5005-4c0a-fb3a-d2edb1baf554",
        "colab": {
          "base_uri": "https://localhost:8080/"
        }
      },
      "source": [
        "# Step 2 - Check for n - odd or even\n",
        "n = len(policy_holders_sort)\n",
        "print(n) # Odd"
      ],
      "execution_count": null,
      "outputs": [
        {
          "output_type": "stream",
          "text": [
            "7\n"
          ],
          "name": "stdout"
        }
      ]
    },
    {
      "cell_type": "code",
      "metadata": {
        "id": "e21AJRNrCri-",
        "outputId": "04dd8868-c2e0-4bd8-996a-a93541ed5582",
        "colab": {
          "base_uri": "https://localhost:8080/"
        }
      },
      "source": [
        "# Step 3 - Find (n + 1)/2 th element\n",
        "median_position = (n + 1)/2 \n",
        "print(median_position)"
      ],
      "execution_count": null,
      "outputs": [
        {
          "output_type": "stream",
          "text": [
            "4.0\n"
          ],
          "name": "stdout"
        }
      ]
    },
    {
      "cell_type": "code",
      "metadata": {
        "id": "cEXQ7F9spavb",
        "outputId": "1fb1876c-3588-4965-f6a6-e3e258579b55",
        "colab": {
          "base_uri": "https://localhost:8080/"
        }
      },
      "source": [
        "median = policy_holders_sort[int(median_position) - 1]\n",
        "print('Median is : ', median)"
      ],
      "execution_count": null,
      "outputs": [
        {
          "output_type": "stream",
          "text": [
            "Median is :  34\n"
          ],
          "name": "stdout"
        }
      ]
    },
    {
      "cell_type": "code",
      "metadata": {
        "id": "99I2OYl_CrjA",
        "outputId": "56185432-ff96-4326-f010-6408d8b255c3",
        "colab": {
          "base_uri": "https://localhost:8080/"
        }
      },
      "source": [
        "# Numpy \\m/\n",
        "np.median(policy_holders_sort)"
      ],
      "execution_count": null,
      "outputs": [
        {
          "output_type": "execute_result",
          "data": {
            "text/plain": [
              "34.0"
            ]
          },
          "metadata": {
            "tags": []
          },
          "execution_count": 49
        }
      ]
    },
    {
      "cell_type": "markdown",
      "metadata": {
        "id": "noKTYkUDpdTH"
      },
      "source": [
        "Part (ii)"
      ]
    },
    {
      "cell_type": "code",
      "metadata": {
        "id": "fEZ5yoSICrjE",
        "outputId": "781a55f6-0051-4152-e687-87e5cad472c3",
        "colab": {
          "base_uri": "https://localhost:8080/"
        }
      },
      "source": [
        "# 2 - Another policyholder aged 41 years is added to the portfolio. \n",
        "policy_holders = np.append(policy_holders,41)\n",
        "print(policy_holders)"
      ],
      "execution_count": null,
      "outputs": [
        {
          "output_type": "stream",
          "text": [
            "[39 34 26 41 70 34 28 41]\n"
          ],
          "name": "stdout"
        }
      ]
    },
    {
      "cell_type": "code",
      "metadata": {
        "id": "LgPYBYO8CrjG",
        "outputId": "c11afbd1-6566-4720-9f5b-e4fb96eedb2d",
        "colab": {
          "base_uri": "https://localhost:8080/"
        }
      },
      "source": [
        "policy_holders_sort =  np.sort(policy_holders)\n",
        "print(policy_holders_sort)\n",
        "n = len(policy_holders_sort)\n",
        "print(n) # Even"
      ],
      "execution_count": null,
      "outputs": [
        {
          "output_type": "stream",
          "text": [
            "[26 28 34 34 39 41 41 70]\n",
            "8\n"
          ],
          "name": "stdout"
        }
      ]
    },
    {
      "cell_type": "code",
      "metadata": {
        "id": "dl45HYt7CrjJ"
      },
      "source": [
        "first_median_position = int(n/2)\n",
        "second_median_position = int((n/2) + 1)"
      ],
      "execution_count": null,
      "outputs": []
    },
    {
      "cell_type": "code",
      "metadata": {
        "id": "rCubEjKCrbtl",
        "outputId": "df3241a3-5b8b-457b-afc9-ffe6dc7c3c15",
        "colab": {
          "base_uri": "https://localhost:8080/"
        }
      },
      "source": [
        "median_point1 = policy_holders_sort[first_median_position-1]\n",
        "median_point2 = policy_holders_sort[second_median_position-1]\n",
        "median = (median_point1 + median_point2) / 2\n",
        "print(median)"
      ],
      "execution_count": null,
      "outputs": [
        {
          "output_type": "stream",
          "text": [
            "36.5\n"
          ],
          "name": "stdout"
        }
      ]
    },
    {
      "cell_type": "code",
      "metadata": {
        "id": "9bx_AX3TCrjL",
        "outputId": "ca7f7627-0797-4cb7-aab2-f75bf3854b50",
        "colab": {
          "base_uri": "https://localhost:8080/"
        }
      },
      "source": [
        "# Numpy \\m/\n",
        "np.median(median)"
      ],
      "execution_count": null,
      "outputs": [
        {
          "output_type": "execute_result",
          "data": {
            "text/plain": [
              "36.5"
            ]
          },
          "metadata": {
            "tags": []
          },
          "execution_count": 54
        }
      ]
    },
    {
      "cell_type": "markdown",
      "metadata": {
        "id": "lK_1OMg1CrjN"
      },
      "source": [
        "### Mode"
      ]
    },
    {
      "cell_type": "markdown",
      "metadata": {
        "id": "yugYmEhptkiA"
      },
      "source": [
        "**The number of children under 16 years in a sample of 20 families :**\n",
        "\n",
        "[2 , 3 , 2 , 2 , 2 , 0 , 0 , 1 , 1, 4, 3, 2, 8, 5, 6, 7 , 4, 15 , 2, 2]\n",
        "\n",
        "What is the mode of this data?"
      ]
    },
    {
      "cell_type": "code",
      "metadata": {
        "id": "aGEyUlj_CrjO",
        "outputId": "3246f472-cc74-489d-8fa3-24e596b37070",
        "colab": {
          "base_uri": "https://localhost:8080/"
        }
      },
      "source": [
        "# Max freq\n",
        "unique_elements, freq = np.unique(no_of_children, return_counts = True)\n",
        "print(unique_elements)\n",
        "print(freq)"
      ],
      "execution_count": null,
      "outputs": [
        {
          "output_type": "stream",
          "text": [
            "[ 0  1  2  3  4  5  6  7  8 15]\n",
            "[2 2 7 2 2 1 1 1 1 1]\n"
          ],
          "name": "stdout"
        }
      ]
    },
    {
      "cell_type": "code",
      "metadata": {
        "id": "P18tAxKyCrjQ",
        "outputId": "42ec4490-2d05-4fba-f300-bce040564ff0",
        "colab": {
          "base_uri": "https://localhost:8080/"
        }
      },
      "source": [
        "# Max Frequency\n",
        "max_freq = np.max(freq)\n",
        "mode_index = np.where(freq == max_freq)\n",
        "mode = no_of_children[mode_index]\n",
        "print(mode)"
      ],
      "execution_count": null,
      "outputs": [
        {
          "output_type": "stream",
          "text": [
            "[2]\n"
          ],
          "name": "stdout"
        }
      ]
    },
    {
      "cell_type": "code",
      "metadata": {
        "id": "H-LhLXXqCrjS",
        "outputId": "c8badcb9-d7ea-429d-8b83-d5853dbc1e58",
        "colab": {
          "base_uri": "https://localhost:8080/"
        }
      },
      "source": [
        "# Another method\n",
        "import statistics\n",
        "from statistics import mode\n",
        "print(mode(no_of_children))"
      ],
      "execution_count": null,
      "outputs": [
        {
          "output_type": "stream",
          "text": [
            "2\n"
          ],
          "name": "stdout"
        }
      ]
    },
    {
      "cell_type": "code",
      "metadata": {
        "id": "STebXzzYCrjU",
        "outputId": "47cf0b5a-6eca-4bd5-ad11-2ed645021dff",
        "colab": {
          "base_uri": "https://localhost:8080/"
        }
      },
      "source": [
        "# More than two modes\n",
        "two_mode = np.array([5,5,5,5,2,2,2,2,4])\n",
        "unique_elements, freq = np.unique(two_mode, return_counts = True)\n",
        "print(unique_elements)\n",
        "print(freq)"
      ],
      "execution_count": null,
      "outputs": [
        {
          "output_type": "stream",
          "text": [
            "[2 4 5]\n",
            "[4 1 4]\n"
          ],
          "name": "stdout"
        }
      ]
    },
    {
      "cell_type": "code",
      "metadata": {
        "id": "Fhwcb8sOOMH2",
        "outputId": "f6990a77-6d72-458f-fb0f-37d018f999d5",
        "colab": {
          "base_uri": "https://localhost:8080/"
        }
      },
      "source": [
        "two_mode = np.array([5,5,5,5,2,2,2,2,2,4,3, 1000])\n",
        "unique_elements, freq = np.unique(two_mode, return_counts = True)\n",
        "print(unique_elements)\n",
        "print(freq)"
      ],
      "execution_count": null,
      "outputs": [
        {
          "output_type": "stream",
          "text": [
            "[   2    3    4    5 1000]\n",
            "[5 1 1 4 1]\n"
          ],
          "name": "stdout"
        }
      ]
    },
    {
      "cell_type": "markdown",
      "metadata": {
        "id": "IYqAJzAAv0yf"
      },
      "source": [
        "# Measures of Spread"
      ]
    },
    {
      "cell_type": "markdown",
      "metadata": {
        "id": "-NZXwlqeCrjb"
      },
      "source": [
        "### Variance and Standard Deviation"
      ]
    },
    {
      "cell_type": "code",
      "metadata": {
        "id": "xJ4IgS_rv-Zv",
        "outputId": "1caead21-957e-41dd-ee0d-5cd7fc909605",
        "colab": {
          "base_uri": "https://localhost:8080/"
        }
      },
      "source": [
        "from google.colab import drive\n",
        "drive.mount('/content/drive')"
      ],
      "execution_count": null,
      "outputs": [
        {
          "output_type": "stream",
          "text": [
            "Mounted at /content/drive\n"
          ],
          "name": "stdout"
        }
      ]
    },
    {
      "cell_type": "code",
      "metadata": {
        "id": "bITlUxX_Crjb"
      },
      "source": [
        "# Load data\n",
        "working_directory = '/content/drive/My Drive/AlmaBetter/Cohort Aravali/Module 1/Week 4/Day 5/data/'\n",
        "phone_data = pd.read_csv(working_directory + \"phone_data.csv\")"
      ],
      "execution_count": null,
      "outputs": []
    },
    {
      "cell_type": "code",
      "metadata": {
        "id": "eSYRISCdCrje",
        "outputId": "8f6e41b1-613e-499f-8903-0ae5c9d169af",
        "colab": {
          "base_uri": "https://localhost:8080/",
          "height": 204
        }
      },
      "source": [
        "phone_data.head()"
      ],
      "execution_count": null,
      "outputs": [
        {
          "output_type": "execute_result",
          "data": {
            "text/html": [
              "<div>\n",
              "<style scoped>\n",
              "    .dataframe tbody tr th:only-of-type {\n",
              "        vertical-align: middle;\n",
              "    }\n",
              "\n",
              "    .dataframe tbody tr th {\n",
              "        vertical-align: top;\n",
              "    }\n",
              "\n",
              "    .dataframe thead th {\n",
              "        text-align: right;\n",
              "    }\n",
              "</style>\n",
              "<table border=\"1\" class=\"dataframe\">\n",
              "  <thead>\n",
              "    <tr style=\"text-align: right;\">\n",
              "      <th></th>\n",
              "      <th>index</th>\n",
              "      <th>date</th>\n",
              "      <th>duration</th>\n",
              "      <th>item</th>\n",
              "      <th>month</th>\n",
              "      <th>network</th>\n",
              "      <th>network_type</th>\n",
              "    </tr>\n",
              "  </thead>\n",
              "  <tbody>\n",
              "    <tr>\n",
              "      <th>0</th>\n",
              "      <td>0</td>\n",
              "      <td>15/10/14 06:58</td>\n",
              "      <td>34.429</td>\n",
              "      <td>data</td>\n",
              "      <td>2014-11</td>\n",
              "      <td>data</td>\n",
              "      <td>data</td>\n",
              "    </tr>\n",
              "    <tr>\n",
              "      <th>1</th>\n",
              "      <td>1</td>\n",
              "      <td>15/10/14 06:58</td>\n",
              "      <td>13.000</td>\n",
              "      <td>call</td>\n",
              "      <td>2014-11</td>\n",
              "      <td>Vodafone</td>\n",
              "      <td>mobile</td>\n",
              "    </tr>\n",
              "    <tr>\n",
              "      <th>2</th>\n",
              "      <td>2</td>\n",
              "      <td>15/10/14 14:46</td>\n",
              "      <td>23.000</td>\n",
              "      <td>call</td>\n",
              "      <td>2014-11</td>\n",
              "      <td>Meteor</td>\n",
              "      <td>mobile</td>\n",
              "    </tr>\n",
              "    <tr>\n",
              "      <th>3</th>\n",
              "      <td>3</td>\n",
              "      <td>15/10/14 14:48</td>\n",
              "      <td>4.000</td>\n",
              "      <td>call</td>\n",
              "      <td>2014-11</td>\n",
              "      <td>Tesco</td>\n",
              "      <td>mobile</td>\n",
              "    </tr>\n",
              "    <tr>\n",
              "      <th>4</th>\n",
              "      <td>4</td>\n",
              "      <td>15/10/14 17:27</td>\n",
              "      <td>4.000</td>\n",
              "      <td>call</td>\n",
              "      <td>2014-11</td>\n",
              "      <td>Tesco</td>\n",
              "      <td>mobile</td>\n",
              "    </tr>\n",
              "  </tbody>\n",
              "</table>\n",
              "</div>"
            ],
            "text/plain": [
              "   index            date  duration  item    month   network network_type\n",
              "0      0  15/10/14 06:58    34.429  data  2014-11      data         data\n",
              "1      1  15/10/14 06:58    13.000  call  2014-11  Vodafone       mobile\n",
              "2      2  15/10/14 14:46    23.000  call  2014-11    Meteor       mobile\n",
              "3      3  15/10/14 14:48     4.000  call  2014-11     Tesco       mobile\n",
              "4      4  15/10/14 17:27     4.000  call  2014-11     Tesco       mobile"
            ]
          },
          "metadata": {
            "tags": []
          },
          "execution_count": 109
        }
      ]
    },
    {
      "cell_type": "code",
      "metadata": {
        "id": "D9X7eijrCrjg",
        "outputId": "9b744f0b-c93d-4ceb-933e-d80f7f80e6aa",
        "colab": {
          "base_uri": "https://localhost:8080/",
          "height": 297
        }
      },
      "source": [
        "phone_data.describe()"
      ],
      "execution_count": null,
      "outputs": [
        {
          "output_type": "execute_result",
          "data": {
            "text/html": [
              "<div>\n",
              "<style scoped>\n",
              "    .dataframe tbody tr th:only-of-type {\n",
              "        vertical-align: middle;\n",
              "    }\n",
              "\n",
              "    .dataframe tbody tr th {\n",
              "        vertical-align: top;\n",
              "    }\n",
              "\n",
              "    .dataframe thead th {\n",
              "        text-align: right;\n",
              "    }\n",
              "</style>\n",
              "<table border=\"1\" class=\"dataframe\">\n",
              "  <thead>\n",
              "    <tr style=\"text-align: right;\">\n",
              "      <th></th>\n",
              "      <th>index</th>\n",
              "      <th>duration</th>\n",
              "    </tr>\n",
              "  </thead>\n",
              "  <tbody>\n",
              "    <tr>\n",
              "      <th>count</th>\n",
              "      <td>830.000000</td>\n",
              "      <td>830.000000</td>\n",
              "    </tr>\n",
              "    <tr>\n",
              "      <th>mean</th>\n",
              "      <td>414.500000</td>\n",
              "      <td>117.804036</td>\n",
              "    </tr>\n",
              "    <tr>\n",
              "      <th>std</th>\n",
              "      <td>239.744656</td>\n",
              "      <td>444.129560</td>\n",
              "    </tr>\n",
              "    <tr>\n",
              "      <th>min</th>\n",
              "      <td>0.000000</td>\n",
              "      <td>1.000000</td>\n",
              "    </tr>\n",
              "    <tr>\n",
              "      <th>25%</th>\n",
              "      <td>207.250000</td>\n",
              "      <td>1.000000</td>\n",
              "    </tr>\n",
              "    <tr>\n",
              "      <th>50%</th>\n",
              "      <td>414.500000</td>\n",
              "      <td>24.500000</td>\n",
              "    </tr>\n",
              "    <tr>\n",
              "      <th>75%</th>\n",
              "      <td>621.750000</td>\n",
              "      <td>55.000000</td>\n",
              "    </tr>\n",
              "    <tr>\n",
              "      <th>max</th>\n",
              "      <td>829.000000</td>\n",
              "      <td>10528.000000</td>\n",
              "    </tr>\n",
              "  </tbody>\n",
              "</table>\n",
              "</div>"
            ],
            "text/plain": [
              "            index      duration\n",
              "count  830.000000    830.000000\n",
              "mean   414.500000    117.804036\n",
              "std    239.744656    444.129560\n",
              "min      0.000000      1.000000\n",
              "25%    207.250000      1.000000\n",
              "50%    414.500000     24.500000\n",
              "75%    621.750000     55.000000\n",
              "max    829.000000  10528.000000"
            ]
          },
          "metadata": {
            "tags": []
          },
          "execution_count": 85
        }
      ]
    },
    {
      "cell_type": "code",
      "metadata": {
        "id": "s_A9SFL-Crjj",
        "outputId": "e8f184df-334c-4e35-bace-db4d78849613",
        "colab": {
          "base_uri": "https://localhost:8080/"
        }
      },
      "source": [
        "print(\"Variance is \", np.var(phone_data['duration']))\n",
        "print(\"Standard Deviation is \", np.std(phone_data['duration']))"
      ],
      "execution_count": null,
      "outputs": [
        {
          "output_type": "stream",
          "text": [
            "Variance is  197013.4143766616\n",
            "Standard Deviation is  443.86193165967904\n"
          ],
          "name": "stdout"
        }
      ]
    },
    {
      "cell_type": "markdown",
      "metadata": {
        "id": "B6cT1VH7Crjn"
      },
      "source": [
        "### Range"
      ]
    },
    {
      "cell_type": "code",
      "metadata": {
        "id": "Esuc80r_Crjq"
      },
      "source": [
        "range = phone_data['duration'].max() - phone_data['duration'].min()"
      ],
      "execution_count": null,
      "outputs": []
    },
    {
      "cell_type": "code",
      "metadata": {
        "id": "SWayuDtTCrjs",
        "outputId": "c6261d9f-0a96-48e7-a5ad-77f0c799985b",
        "colab": {
          "base_uri": "https://localhost:8080/"
        }
      },
      "source": [
        "print(range)"
      ],
      "execution_count": null,
      "outputs": [
        {
          "output_type": "stream",
          "text": [
            "10527.0\n"
          ],
          "name": "stdout"
        }
      ]
    },
    {
      "cell_type": "markdown",
      "metadata": {
        "id": "Z24kLaWcCrju"
      },
      "source": [
        "### Interquartile Range"
      ]
    },
    {
      "cell_type": "code",
      "metadata": {
        "id": "2mnO8nIyCrjw",
        "outputId": "16bb3604-f989-4356-b121-06d2c42f40a8",
        "colab": {
          "base_uri": "https://localhost:8080/"
        }
      },
      "source": [
        "# Percentiles\n",
        "percentile_q1 = np.percentile(phone_data['duration'],25)\n",
        "print(percentile_q1)\n",
        "percentile_q2 = np.percentile(phone_data['duration'],50)\n",
        "print(percentile_q2)\n",
        "percentile_q3 = np.percentile(phone_data['duration'],75)\n",
        "print(percentile_q3)"
      ],
      "execution_count": null,
      "outputs": [
        {
          "output_type": "stream",
          "text": [
            "1.0\n",
            "24.5\n",
            "55.0\n"
          ],
          "name": "stdout"
        }
      ]
    },
    {
      "cell_type": "code",
      "metadata": {
        "id": "7NXa6_yYw7K-",
        "outputId": "add48aee-88c5-49d0-b98d-4a51851870d8",
        "colab": {
          "base_uri": "https://localhost:8080/"
        }
      },
      "source": [
        "print(np.median(phone_data['duration']))"
      ],
      "execution_count": null,
      "outputs": [
        {
          "output_type": "stream",
          "text": [
            "24.5\n"
          ],
          "name": "stdout"
        }
      ]
    },
    {
      "cell_type": "code",
      "metadata": {
        "id": "qImO6XuECrjy",
        "outputId": "27656e05-e935-46ff-ee86-b121ae34049a",
        "colab": {
          "base_uri": "https://localhost:8080/"
        }
      },
      "source": [
        "# IQ range\n",
        "iq_range =  percentile_q3 - percentile_q1\n",
        "print(iq_range)"
      ],
      "execution_count": null,
      "outputs": [
        {
          "output_type": "stream",
          "text": [
            "54.0\n"
          ],
          "name": "stdout"
        }
      ]
    },
    {
      "cell_type": "code",
      "metadata": {
        "id": "oeKg_lpp6fCf"
      },
      "source": [
        "lst = [-10, 1, 2, 3, 4, 5, 6, 7, 8, 9, 20]"
      ],
      "execution_count": null,
      "outputs": []
    },
    {
      "cell_type": "code",
      "metadata": {
        "id": "stMvpM_u6XIF",
        "outputId": "770a8f25-e41a-4904-e31d-58c86fc3419e",
        "colab": {
          "base_uri": "https://localhost:8080/",
          "height": 322
        }
      },
      "source": [
        "ax = sns.boxplot(lst)"
      ],
      "execution_count": null,
      "outputs": [
        {
          "output_type": "stream",
          "text": [
            "/usr/local/lib/python3.6/dist-packages/seaborn/_decorators.py:43: FutureWarning: Pass the following variable as a keyword arg: x. From version 0.12, the only valid positional argument will be `data`, and passing other arguments without an explicit keyword will result in an error or misinterpretation.\n",
            "  FutureWarning\n"
          ],
          "name": "stderr"
        },
        {
          "output_type": "display_data",
          "data": {
            "image/png": "[encoded data removed]",
            "text/plain": [
              "<Figure size 432x288 with 1 Axes>"
            ]
          },
          "metadata": {
            "tags": []
          }
        }
      ]
    },
    {
      "cell_type": "markdown",
      "metadata": {
        "id": "-a2CTdd8aQeP"
      },
      "source": [
        "Q1 - 1.5 IQR = 3 - 1.5 * (7-3) = 3 - 1.5 * 4 = -3\n",
        "Q3 + 1.5 IQR = 7 + 1.5 * 4 = 13\n"
      ]
    },
    {
      "cell_type": "markdown",
      "metadata": {
        "id": "D2CYm-VszoOh"
      },
      "source": [
        "# Measures of Symmetry"
      ]
    },
    {
      "cell_type": "code",
      "metadata": {
        "id": "VPFwnM4p0YgQ",
        "outputId": "2efb1991-1020-4956-da59-2b917b9d4d33",
        "colab": {
          "base_uri": "https://localhost:8080/",
          "height": 356
        }
      },
      "source": [
        "sns.distplot(phone_data['duration'], hist=True)"
      ],
      "execution_count": null,
      "outputs": [
        {
          "output_type": "stream",
          "text": [
            "/usr/local/lib/python3.6/dist-packages/seaborn/distributions.py:2551: FutureWarning: `distplot` is a deprecated function and will be removed in a future version. Please adapt your code to use either `displot` (a figure-level function with similar flexibility) or `histplot` (an axes-level function for histograms).\n",
            "  warnings.warn(msg, FutureWarning)\n"
          ],
          "name": "stderr"
        },
        {
          "output_type": "execute_result",
          "data": {
            "text/plain": [
              "<matplotlib.axes._subplots.AxesSubplot at 0x7f2871cdc828>"
            ]
          },
          "metadata": {
            "tags": []
          },
          "execution_count": 96
        },
        {
          "output_type": "display_data",
          "data": {
            "image/png": "[encoded data removed]",
            "text/plain": [
              "<Figure size 432x288 with 1 Axes>"
            ]
          },
          "metadata": {
            "tags": []
          }
        }
      ]
    },
    {
      "cell_type": "code",
      "metadata": {
        "id": "xaisg_TqZiFX"
      },
      "source": [
        "phone_data['negative_duration'] = 0 - phone_data['duration']"
      ],
      "execution_count": null,
      "outputs": []
    },
    {
      "cell_type": "code",
      "metadata": {
        "id": "rNJWIg3OZpCe",
        "outputId": "316015f4-823d-46f3-8e64-58024add3295",
        "colab": {
          "base_uri": "https://localhost:8080/",
          "height": 356
        }
      },
      "source": [
        "sns.distplot(phone_data['negative_duration'], hist=True)"
      ],
      "execution_count": null,
      "outputs": [
        {
          "output_type": "stream",
          "text": [
            "/usr/local/lib/python3.6/dist-packages/seaborn/distributions.py:2551: FutureWarning: `distplot` is a deprecated function and will be removed in a future version. Please adapt your code to use either `displot` (a figure-level function with similar flexibility) or `histplot` (an axes-level function for histograms).\n",
            "  warnings.warn(msg, FutureWarning)\n"
          ],
          "name": "stderr"
        },
        {
          "output_type": "execute_result",
          "data": {
            "text/plain": [
              "<matplotlib.axes._subplots.AxesSubplot at 0x7f286fd09f98>"
            ]
          },
          "metadata": {
            "tags": []
          },
          "execution_count": 118
        },
        {
          "output_type": "display_data",
          "data": {
            "image/png": "[encoded data removed]",
            "text/plain": [
              "<Figure size 432x288 with 1 Axes>"
            ]
          },
          "metadata": {
            "tags": []
          }
        }
      ]
    },
    {
      "cell_type": "code",
      "metadata": {
        "id": "r_Ddu9o0Crj5",
        "outputId": "5fba4324-8400-41cb-9f59-1bb46e8c0f76",
        "colab": {
          "base_uri": "https://localhost:8080/"
        }
      },
      "source": [
        "phone_data.skew(axis = 0, skipna = True)"
      ],
      "execution_count": null,
      "outputs": [
        {
          "output_type": "execute_result",
          "data": {
            "text/plain": [
              "index                 0.000000\n",
              "duration             16.400233\n",
              "negative_duration   -16.400233\n",
              "dtype: float64"
            ]
          },
          "metadata": {
            "tags": []
          },
          "execution_count": 119
        }
      ]
    },
    {
      "cell_type": "code",
      "metadata": {
        "id": "n5S7c1MNXjmU"
      },
      "source": [
        "lst = [1, 2, 3, 3, 3, 4, 4, 5]"
      ],
      "execution_count": null,
      "outputs": []
    },
    {
      "cell_type": "code",
      "metadata": {
        "id": "W5ODR6cBXsZC",
        "outputId": "3a42dad6-f485-47b2-90a9-bc0a3d9ec457",
        "colab": {
          "base_uri": "https://localhost:8080/",
          "height": 339
        }
      },
      "source": [
        "sns.distplot(lst, hist=True)"
      ],
      "execution_count": null,
      "outputs": [
        {
          "output_type": "stream",
          "text": [
            "/usr/local/lib/python3.6/dist-packages/seaborn/distributions.py:2551: FutureWarning: `distplot` is a deprecated function and will be removed in a future version. Please adapt your code to use either `displot` (a figure-level function with similar flexibility) or `histplot` (an axes-level function for histograms).\n",
            "  warnings.warn(msg, FutureWarning)\n"
          ],
          "name": "stderr"
        },
        {
          "output_type": "execute_result",
          "data": {
            "text/plain": [
              "<matplotlib.axes._subplots.AxesSubplot at 0x7f286fce6358>"
            ]
          },
          "metadata": {
            "tags": []
          },
          "execution_count": 121
        },
        {
          "output_type": "display_data",
          "data": {
            "image/png": "[encoded data removed]",
            "text/plain": [
              "<Figure size 432x288 with 1 Axes>"
            ]
          },
          "metadata": {
            "tags": []
          }
        }
      ]
    },
    {
      "cell_type": "markdown",
      "metadata": {
        "id": "GyvTR_lg3kE1"
      },
      "source": [
        "# Outlier Detection"
      ]
    },
    {
      "cell_type": "code",
      "metadata": {
        "id": "fWKE9ESQ0iVs"
      },
      "source": [
        "# Calculate Q1 and Q3, IQR\n",
        "# Come up with lower and upper limits for outliers\n",
        "# Subset the df based on those values\n",
        "new = phone_data[phone_data['duration']<400]"
      ],
      "execution_count": null,
      "outputs": []
    },
    {
      "cell_type": "code",
      "metadata": {
        "id": "WJu3RcRJ3nx8"
      },
      "source": [
        "new"
      ],
      "execution_count": null,
      "outputs": []
    },
    {
      "cell_type": "code",
      "metadata": {
        "id": "HWK9Vg0J4nh1",
        "outputId": "50487569-97b0-4f0d-cb2c-062a33e62fb8",
        "colab": {
          "base_uri": "https://localhost:8080/",
          "height": 339
        }
      },
      "source": [
        "ax = sns.boxplot(new['duration'])"
      ],
      "execution_count": null,
      "outputs": [
        {
          "output_type": "stream",
          "text": [
            "/usr/local/lib/python3.6/dist-packages/seaborn/_decorators.py:43: FutureWarning: Pass the following variable as a keyword arg: x. From version 0.12, the only valid positional argument will be `data`, and passing other arguments without an explicit keyword will result in an error or misinterpretation.\n",
            "  FutureWarning\n"
          ],
          "name": "stderr"
        },
        {
          "output_type": "display_data",
          "data": {
            "image/png": "[encoded data removed]",
            "text/plain": [
              "<Figure size 432x288 with 1 Axes>"
            ]
          },
          "metadata": {
            "tags": []
          }
        }
      ]
    },
    {
      "cell_type": "code",
      "metadata": {
        "id": "1fW4ZyDW3nn5",
        "outputId": "f88fda84-eddf-4af7-8c8e-4fa1356b06c2",
        "colab": {
          "base_uri": "https://localhost:8080/",
          "height": 356
        }
      },
      "source": [
        "sns.distplot(new['duration'], hist=True)"
      ],
      "execution_count": null,
      "outputs": [
        {
          "output_type": "stream",
          "text": [
            "/usr/local/lib/python3.6/dist-packages/seaborn/distributions.py:2551: FutureWarning: `distplot` is a deprecated function and will be removed in a future version. Please adapt your code to use either `displot` (a figure-level function with similar flexibility) or `histplot` (an axes-level function for histograms).\n",
            "  warnings.warn(msg, FutureWarning)\n"
          ],
          "name": "stderr"
        },
        {
          "output_type": "execute_result",
          "data": {
            "text/plain": [
              "<matplotlib.axes._subplots.AxesSubplot at 0x7f286fabadd8>"
            ]
          },
          "metadata": {
            "tags": []
          },
          "execution_count": 128
        },
        {
          "output_type": "display_data",
          "data": {
            "image/png": "[encoded data removed]",
            "text/plain": [
              "<Figure size 432x288 with 1 Axes>"
            ]
          },
          "metadata": {
            "tags": []
          }
        }
      ]
    },
    {
      "cell_type": "code",
      "metadata": {
        "id": "CEBGrtRobpcF"
      },
      "source": [
        ""
      ],
      "execution_count": null,
      "outputs": []
    }
  ]
}